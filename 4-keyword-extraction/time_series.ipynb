{
 "cells": [
  {
   "cell_type": "code",
   "execution_count": 1,
   "metadata": {
    "collapsed": true
   },
   "outputs": [],
   "source": [
    "import json\n",
    "with open('term_frequency.json') as f:\n",
    "    top_terms = json.load(f)"
   ]
  },
  {
   "cell_type": "code",
   "execution_count": 2,
   "metadata": {},
   "outputs": [
    {
     "data": {
      "text/plain": [
       "2731"
      ]
     },
     "execution_count": 2,
     "metadata": {},
     "output_type": "execute_result"
    }
   ],
   "source": [
    "len(top_terms)"
   ]
  },
  {
   "cell_type": "code",
   "execution_count": 3,
   "metadata": {
    "collapsed": true
   },
   "outputs": [],
   "source": [
    "top_terms = {k: {} for k in top_terms}"
   ]
  },
  {
   "cell_type": "code",
   "execution_count": 4,
   "metadata": {
    "collapsed": true
   },
   "outputs": [],
   "source": [
    "from models import *\n",
    "for post in Post.select():\n",
    "    if not post.message:\n",
    "        continue\n",
    "    for sentence in post.message.split('\\t'):\n",
    "        for word in sentence.split(' '):\n",
    "            if word in top_terms:\n",
    "                k = post.time[0:10]\n",
    "                if k in top_terms[word]:\n",
    "                    top_terms[word][k] += 1\n",
    "                else:\n",
    "                    top_terms[word][k] = 1"
   ]
  },
  {
   "cell_type": "code",
   "execution_count": 5,
   "metadata": {
    "collapsed": true
   },
   "outputs": [],
   "source": [
    "from collections import Counter\n",
    "times = []\n",
    "for post in Post.select():\n",
    "    if post.message:\n",
    "        times.append(post.time[0:10])\n",
    "time_counts = Counter(times)\n",
    "for word in top_terms:\n",
    "    for time in top_terms[word]:\n",
    "        top_terms[word][time] /= time_counts[time]"
   ]
  },
  {
   "cell_type": "code",
   "execution_count": 6,
   "metadata": {
    "collapsed": true
   },
   "outputs": [],
   "source": [
    "from datetime import datetime\n",
    "import pandas as pd\n",
    "start = datetime(2015, 10, 17)\n",
    "end = datetime(2016, 1, 16)\n",
    "index = pd.date_range(start, end)"
   ]
  },
  {
   "cell_type": "code",
   "execution_count": 7,
   "metadata": {},
   "outputs": [
    {
     "name": "stdout",
     "output_type": "stream",
     "text": [
      "朱立倫 總統 選票 監督 反對 選 不斷 投票 夜 票 國際 穩定 1月 16日 消息 傷害 賠償 南 1 14 懇請 公開 現狀 下 中國 28 施政 一定 天 不要 競選 公車 困難 標準 能源 辯論 自信 開心 冷 元旦 堅定 關懷 部落 辯論會 抗議 進行 非 技術 31 生產 22 倒數 憲政 報告 即將 人選 交流 深刻 登記 頂 人物 經營 何 新加坡 恐怖 證所稅 年金 預計 團體 簽署 多少 取消 領導人 食品 衝 尊嚴 政黨票 拜託 黃安 選情 馬習會 表 馬 黑箱 食安 二十 柯 關 陳建仁 抹黑 11月 等於 廠 投給 過半 工人 出力 馬習 屬 聲明 馬英九 會面 習近平 協議 見面 停止 安排 握 鬥陣 叫做 舉行 聖誕 故宮 南院 前往 KMT 資產 陣營 ② 交換 頂新 藝人 知 購 破壞 地位 ① 黑心 軍宅 無罪 板橋區 116 "
     ]
    }
   ],
   "source": [
    "top_terms_with_peak = {}\n",
    "one_day = pd.Timedelta('1 days')\n",
    "for k in top_terms:\n",
    "    s = pd.Series(top_terms[k])\n",
    "    s.index = pd.DatetimeIndex(s.index)\n",
    "    s = s.reindex(index, fill_value=0)\n",
    "    peak = s[s > (s.mean() + 2 * s.std())]\n",
    "    for d1 in peak.index:\n",
    "        d2 = d1 + one_day\n",
    "        d3 = d2 + one_day\n",
    "        if d2 in peak.index and d3 in peak.index:\n",
    "            top_terms_with_peak[k] = s\n",
    "            print(k, end=' ')\n",
    "            break"
   ]
  },
  {
   "cell_type": "code",
   "execution_count": 8,
   "metadata": {},
   "outputs": [
    {
     "data": {
      "text/plain": [
       "132"
      ]
     },
     "execution_count": 8,
     "metadata": {},
     "output_type": "execute_result"
    }
   ],
   "source": [
    "len(top_terms_with_peak)"
   ]
  },
  {
   "cell_type": "code",
   "execution_count": 17,
   "metadata": {},
   "outputs": [
    {
     "data": {
      "text/plain": [
       "94"
      ]
     },
     "execution_count": 17,
     "metadata": {},
     "output_type": "execute_result"
    }
   ],
   "source": [
    "meaningful = {'KMT', '①', '②', '中國', '交換', '交流', '人物', '人選', '倒數', '停止', '傷害', '冷', '出力',\n",
    " '前往', '協議', '南院', '即將', '反對', '取消', '叫做', '困難', '國際', '團體', '地位', '堅定', '報告', '夜', '安排',\n",
    " '尊嚴', '屬', '工人', '年金', '廠', '恐怖', '憲政', '懇請', '技術', '投票', '投給', '抗議', '抹黑', '拜託', '握',\n",
    " '政黨票', '故宮', '新加坡', '會面', '朱立倫', '標準', '消息', '無罪', '現狀', '登記', '監督', '破壞', '票', '穩定',\n",
    " '簽署', '經營', '總統', '習近平', '聲明', '能源', '自信', '舉行', '藝人', '衝', '表', '見面', '證所稅', '賠償', '購',\n",
    " '軍宅', '辯論', '辯論會', '進行', '過半', '選票', '部落', '關', '陳建仁', '頂', '頂新', '領導人', '食品', '食安', '馬',\n",
    " '馬習', '馬習會', '馬英九', '鬥陣', '黃安', '黑心', '黑箱'}\n",
    "len(meaningful)"
   ]
  },
  {
   "cell_type": "code",
   "execution_count": null,
   "metadata": {},
   "outputs": [],
   "source": [
    "from matplotlib import pyplot\n",
    "group = {}\n",
    "for k, v in top_terms_with_peak.items():\n",
    "    if k in meaningful:\n",
    "        v.plot()\n",
    "        pyplot.show()\n",
    "        option = ''\n",
    "        while not option.isdecimal():\n",
    "            option = input(k + ' ')\n",
    "        group[k] = int(option)\n",
    "        print(group)"
   ]
  },
  {
   "cell_type": "code",
   "execution_count": null,
   "metadata": {
    "collapsed": true
   },
   "outputs": [],
   "source": []
  }
 ],
 "metadata": {
  "kernelspec": {
   "display_name": "Python 3",
   "language": "python",
   "name": "python3"
  },
  "language_info": {
   "codemirror_mode": {
    "name": "ipython",
    "version": 3
   },
   "file_extension": ".py",
   "mimetype": "text/x-python",
   "name": "python",
   "nbconvert_exporter": "python",
   "pygments_lexer": "ipython3",
   "version": "3.6.3"
  }
 },
 "nbformat": 4,
 "nbformat_minor": 1
}
