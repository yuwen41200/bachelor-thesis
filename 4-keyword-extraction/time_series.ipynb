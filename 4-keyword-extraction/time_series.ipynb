{
 "cells": [
  {
   "cell_type": "code",
   "execution_count": 1,
   "metadata": {
    "collapsed": true
   },
   "outputs": [],
   "source": [
    "import json\n",
    "with open('term_frequency.json') as f:\n",
    "    top_terms = json.load(f)"
   ]
  },
  {
   "cell_type": "code",
   "execution_count": 2,
   "metadata": {},
   "outputs": [
    {
     "data": {
      "text/plain": [
       "2731"
      ]
     },
     "execution_count": 2,
     "metadata": {},
     "output_type": "execute_result"
    }
   ],
   "source": [
    "len(top_terms)"
   ]
  },
  {
   "cell_type": "code",
   "execution_count": 3,
   "metadata": {
    "collapsed": true
   },
   "outputs": [],
   "source": [
    "top_terms = {k: {} for k in top_terms}"
   ]
  },
  {
   "cell_type": "code",
   "execution_count": 4,
   "metadata": {
    "collapsed": true
   },
   "outputs": [],
   "source": [
    "from models import *\n",
    "for post in Post.select():\n",
    "    if not post.message:\n",
    "        continue\n",
    "    for sentence in post.message.split('\\t'):\n",
    "        for word in sentence.split(' '):\n",
    "            if word in top_terms:\n",
    "                k = post.time[0:10]\n",
    "                if k in top_terms[word]:\n",
    "                    top_terms[word][k] += 1\n",
    "                else:\n",
    "                    top_terms[word][k] = 1"
   ]
  },
  {
   "cell_type": "code",
   "execution_count": 5,
   "metadata": {
    "collapsed": true
   },
   "outputs": [],
   "source": [
    "from collections import Counter\n",
    "times = []\n",
    "for post in Post.select():\n",
    "    if post.message:\n",
    "        times.append(post.time[0:10])\n",
    "time_counts = Counter(times)\n",
    "for word in top_terms:\n",
    "    for time in top_terms[word]:\n",
    "        top_terms[word][time] /= time_counts[time]"
   ]
  },
  {
   "cell_type": "code",
   "execution_count": 6,
   "metadata": {
    "collapsed": true
   },
   "outputs": [],
   "source": [
    "from datetime import datetime\n",
    "import pandas as pd\n",
    "start = datetime(2015, 10, 17)\n",
    "end = datetime(2016, 1, 16)\n",
    "index = pd.date_range(start, end)"
   ]
  },
  {
   "cell_type": "code",
   "execution_count": 7,
   "metadata": {},
   "outputs": [
    {
     "name": "stdout",
     "output_type": "stream",
     "text": [
      "朱立倫 總統 選票 監督 反對 選 不斷 投票 夜 國際 穩定 1月 16日 消息 傷害 賠償 1 14 懇請 公開 大眾 現狀 下 中國 28 施政 一定 不要 競選 公車 困難 標準 造勢 能源 辯論 自信 開心 冷 元旦 堅定 關懷 部落 辯論會 抗議 進行 非 技術 31 22 憲政 報告 人選 交流 登記 頂 人物 經營 何 新加坡 恐怖 證所稅 年金 預計 團體 簽署 多少 取消 領導人 食品 衝 尊嚴 政黨票 拜託 黃安 選情 馬習會 表 馬 黑箱 食安 二十 柯 關 陳建仁 抹黑 11月 等於 廠 投給 過半 工人 出力 馬習 屬 聲明 馬英九 會面 習近平 協議 見面 停止 安排 握 鬥陣 叫做 舉行 聖誕 故宮 南院 前往 KMT 資產 陣營 ② 交換 婚姻 頂新 藝人 知 購 破壞 地位 ① 黑心 軍宅 無罪 板橋區 116 "
     ]
    }
   ],
   "source": [
    "top_terms_with_peak = {}\n",
    "one_day = pd.Timedelta('1 days')\n",
    "for k in top_terms:\n",
    "    s = pd.Series(top_terms[k])\n",
    "    s.index = pd.DatetimeIndex(s.index)\n",
    "    s = s.reindex(index, fill_value=0)\n",
    "    peak = s[s > (s.mean() + 2 * s.std())]\n",
    "    for d1 in peak.index:\n",
    "        d2 = d1 + one_day\n",
    "        d3 = d2 + one_day\n",
    "        if d2 in peak.index and d3 in peak.index:\n",
    "            top_terms_with_peak[k] = s\n",
    "            print(k, end=' ')\n",
    "            break"
   ]
  },
  {
   "cell_type": "code",
   "execution_count": 20,
   "metadata": {},
   "outputs": [
    {
     "data": {
      "text/plain": [
       "128"
      ]
     },
     "execution_count": 20,
     "metadata": {},
     "output_type": "execute_result"
    }
   ],
   "source": [
    "len(top_terms_with_peak)"
   ]
  },
  {
   "cell_type": "code",
   "execution_count": 27,
   "metadata": {},
   "outputs": [
    {
     "data": {
      "text/plain": [
       "77"
      ]
     },
     "execution_count": 27,
     "metadata": {},
     "output_type": "execute_result"
    }
   ],
   "source": [
    "meaningful = {\n",
    "    '朱立倫': 1, '總統': 3, '選票': 12, '監督': 3, '投票': 13, '夜': 13,\n",
    "    '國際': 3, '傷害': 3, '賠償': 11, '現狀': 3, '中國': 3, '標準': 6,\n",
    "    '能源': 7, '辯論': 10, '自信': 1, '堅定': 13, '部落': 1, '辯論會': 10,\n",
    "    '抗議': 3, '憲政': 3, '報告': 3, '人選': 5, '交流': 3, '登記': 6,\n",
    "    '頂': 6, '人物': 1, '經營': 7, '新加坡': 3, '恐怖': 4, '證所稅': 5,\n",
    "    '年金': 8, '簽署': 3, '取消': 1, '領導人': 3, '食品': 6, '衝': 7,\n",
    "    '尊嚴': 3, '拜託': 13, '黃安': 13, '馬習會': 3, '表': 3, '馬': 3,\n",
    "    '黑箱': 3, '食安': 6, '關': 5, '陳建仁': 5, '廠': 5, '投給': 13,\n",
    "    '過半': 12, '工人': 5, '出力': 1, '馬習': 3, '屬': 3, '聲明': 3,\n",
    "    '馬英九': 3, '會面': 3, '習近平': 3, '協議': 3, '見面': 3, '停止': 3,\n",
    "    '安排': 3, '握': 3, '鬥陣': 3, '舉行': 3, '故宮': 10, '南院': 10,\n",
    "    '前往': 3, '②': 10, '交換': 3, '頂新': 8, '藝人': 5, '購': 7,\n",
    "    '地位': 3, '①': 10, '黑心': 6, '軍宅': 8, '無罪': 6\n",
    "}\n",
    "len(meaningful)"
   ]
  },
  {
   "cell_type": "code",
   "execution_count": 33,
   "metadata": {},
   "outputs": [
    {
     "name": "stdout",
     "output_type": "stream",
     "text": [
      "['朱立倫', '自信', '部落', '人物', '取消', '出力']\n",
      "[]\n",
      "['總統', '監督', '國際', '傷害', '現狀', '中國', '抗議', '憲政', '報告', '交流', '新加坡', '簽署', '領導人', '尊嚴', '馬習會', '表', '馬', '黑箱', '馬習', '屬', '聲明', '馬英九', '會面', '習近平', '協議', '見面', '停止', '安排', '握', '鬥陣', '舉行', '前往', '交換', '地位']\n",
      "['恐怖']\n",
      "['人選', '證所稅', '關', '陳建仁', '廠', '工人', '藝人']\n",
      "['標準', '登記', '頂', '食品', '食安', '黑心', '無罪']\n",
      "['能源', '經營', '衝', '購']\n",
      "['年金', '頂新', '軍宅']\n",
      "[]\n",
      "['辯論', '辯論會', '故宮', '南院', '②', '①']\n",
      "['賠償']\n",
      "['選票', '過半']\n",
      "['投票', '夜', '堅定', '拜託', '黃安', '投給']\n"
     ]
    }
   ],
   "source": [
    "groups = [[], [], [], [], [], [], [], [], [], [], [], [], []]\n",
    "for k, v in meaningful.items():\n",
    "    groups[v-1].append(k)\n",
    "for group in groups:\n",
    "    print(group)"
   ]
  },
  {
   "cell_type": "code",
   "execution_count": null,
   "metadata": {},
   "outputs": [],
   "source": [
    "from matplotlib import pyplot\n",
    "for k, v in top_terms_with_peak.items():\n",
    "    if k in meaningful:\n",
    "        v.plot()\n",
    "        pyplot.show()\n",
    "        option = input(k + ' ' + str(meaningful[k]) + ' ')\n",
    "        if option:\n",
    "            meaningful[k] = int(option)\n",
    "            print(meaningful)"
   ]
  },
  {
   "cell_type": "code",
   "execution_count": null,
   "metadata": {
    "collapsed": true
   },
   "outputs": [],
   "source": []
  }
 ],
 "metadata": {
  "kernelspec": {
   "display_name": "Python 3",
   "language": "python",
   "name": "python3"
  },
  "language_info": {
   "codemirror_mode": {
    "name": "ipython",
    "version": 3
   },
   "file_extension": ".py",
   "mimetype": "text/x-python",
   "name": "python",
   "nbconvert_exporter": "python",
   "pygments_lexer": "ipython3",
   "version": "3.6.3"
  }
 },
 "nbformat": 4,
 "nbformat_minor": 1
}
