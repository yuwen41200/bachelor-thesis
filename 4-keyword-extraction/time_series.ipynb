{
 "cells": [
  {
   "cell_type": "code",
   "execution_count": 1,
   "metadata": {},
   "outputs": [],
   "source": [
    "import json\n",
    "with open('term_frequency.json') as f:\n",
    "    top_terms = json.load(f)"
   ]
  },
  {
   "cell_type": "code",
   "execution_count": 2,
   "metadata": {},
   "outputs": [
    {
     "data": {
      "text/plain": [
       "2731"
      ]
     },
     "execution_count": 2,
     "metadata": {},
     "output_type": "execute_result"
    }
   ],
   "source": [
    "len(top_terms)"
   ]
  },
  {
   "cell_type": "code",
   "execution_count": 3,
   "metadata": {},
   "outputs": [],
   "source": [
    "top_terms = {k: {} for k in top_terms}"
   ]
  },
  {
   "cell_type": "code",
   "execution_count": 4,
   "metadata": {},
   "outputs": [],
   "source": [
    "from models import *\n",
    "for post in Post.select():\n",
    "    if not post.message:\n",
    "        continue\n",
    "    for sentence in post.message.split('\\t'):\n",
    "        for word in sentence.split(' '):\n",
    "            if word in top_terms:\n",
    "                k = post.time[0:10]\n",
    "                if k in top_terms[word]:\n",
    "                    top_terms[word][k] += 1\n",
    "                else:\n",
    "                    top_terms[word][k] = 1"
   ]
  },
  {
   "cell_type": "code",
   "execution_count": 5,
   "metadata": {
    "collapsed": true
   },
   "outputs": [],
   "source": [
    "from datetime import datetime\n",
    "import pandas as pd\n",
    "start = datetime(2015, 10, 17)\n",
    "end = datetime(2016, 1, 16)\n",
    "index = pd.date_range(start, end)"
   ]
  },
  {
   "cell_type": "code",
   "execution_count": 10,
   "metadata": {},
   "outputs": [
    {
     "name": "stdout",
     "output_type": "stream",
     "text": [
      "， 朱立倫 讓 各 位 了 ！ 我們 國民黨 不 的 。 總統 要 最 我 但 不會 英文 民進黨 選舉 這 是 台灣 也 、 在 更 未來 所有 政黨 知道 會 次 大選 選票 監督 政治 反對 請 大家 發 愛 只 有 一 個 選 前 這樣 P "
     ]
    },
    {
     "name": "stdout",
     "output_type": "stream",
     "text": [
      "價值 民主 誠懇 ？ 說 再 還 機會 支持 告訴 從 現在 "
     ]
    },
    {
     "name": "stdout",
     "output_type": "stream",
     "text": [
      "就 和 都 時 跟 一樣 新 走 而是 台灣人 離 朋友 投票 給 今晚 很 再次 張 因為 熱情 鄉親 力挺 勝利 夜 【 你 】 需要 國旗 全 進步 投 誰 您 滿 地 來 國際 人 好 立委 候選人 一起 委員 "
     ]
    },
    {
     "name": "stdout",
     "output_type": "stream",
     "text": [
      "1月 16日 ； 消息 到 傷害 向 賠償 翻轉 站出來 中心 想 公開 掃街 大眾 為了 絕對 16 路 現狀 《 力 中國 選區 黃 28 一定 過 天 用 願意 楊瓊瓔 陪 不要 認識 像 一路 為 家鄉 三 決定 "
     ]
    },
    {
     "name": "stdout",
     "output_type": "stream",
     "text": [
      "以來 吧 們 公車 同 年輕人 啦 困難 面對 真的 嗎 造勢 能源 "
     ]
    },
    {
     "name": "stdout",
     "output_type": "stream",
     "text": [
      "自己 實現 辯論 在一起 只有 冷 元旦 前來 現場 第一 "
     ]
    },
    {
     "name": "stdout",
     "output_type": "stream",
     "text": [
      "堅定 保護 辯論會 當選 值得 抗議 太多 # 身邊 進行 南投 "
     ]
    },
    {
     "name": "stdout",
     "output_type": "stream",
     "text": [
      "找到 分區 第四 典禮 從來 31 生產 週 踴躍"
     ]
    },
    {
     "name": "stdout",
     "output_type": "stream",
     "text": [
      " 網址 倒數 憲政 報告 有的 等待 人選 交流 "
     ]
    },
    {
     "name": "stdout",
     "output_type": "stream",
     "text": [
      "登記 頂 新竹市 人物 何 新加坡 選戰 小時 恐怖 證所稅 年金 覺得 OneTaiwan 26 "
     ]
    },
    {
     "name": "stdout",
     "output_type": "stream",
     "text": [
      "費用 預計 團體 簽署 互相 前進 取消 瑞芳 後盾 屬於 6 食品 "
     ]
    },
    {
     "name": "stdout",
     "output_type": "stream",
     "text": [
      "意志 衝 承擔 中國人 政黨票 拜託 衝刺 文宣 不用 票投 表演 黃安 一生 馬習會 憤怒 表 馬 13 通通 黑箱 拍"
     ]
    },
    {
     "name": "stdout",
     "output_type": "stream",
     "text": [
      " 即可 作 哩 食安 千 短 柯 行 關 陳建仁 抹黑 11月"
     ]
    },
    {
     "name": "stdout",
     "output_type": "stream",
     "text": [
      " 名單 拉 靠 10月 廠 較 而已 現任 中正 口 舊 一月 過半 "
     ]
    },
    {
     "name": "stdout",
     "output_type": "stream",
     "text": [
      "對抗 投票日 工人 出力 馬習 屬 把握 聲明 馬英九 會面 提 習近平 協議 見面 程序 停止 安排 "
     ]
    },
    {
     "name": "stdout",
     "output_type": "stream",
     "text": [
      "還可以 鬥陣 陳奕齊 教訓 命運 叫做 舉行 聖誕 罵 故宮 南院 "
     ]
    },
    {
     "name": "stdout",
     "output_type": "stream",
     "text": [
      "方便 前往 陣營 ② 車隊 接著 不公 交換 民主進步黨 倒 包"
     ]
    },
    {
     "name": "stdout",
     "output_type": "stream",
     "text": [
      " 沃草 黨部 護航 頂新 直播 藝人 購 台獨 破壞 地位 點亮 ① 眷村 黑心 軍宅 娘家 買賣 "
     ]
    },
    {
     "name": "stdout",
     "output_type": "stream",
     "text": [
      "板橋區 116 致政 瓊瓔 "
     ]
    }
   ],
   "source": [
    "top_terms_with_peak = {}\n",
    "one_day = pd.Timedelta('1 days')\n",
    "for k in top_terms:\n",
    "    s = pd.Series(top_terms[k])\n",
    "    s.index = pd.DatetimeIndex(s.index)\n",
    "    s = s.reindex(index, fill_value=0)\n",
    "    peak = s[s > s.mean() + 2 * s.std()]\n",
    "    for d1 in peak.index:\n",
    "        d2 = d1 + one_day\n",
    "        d3 = d2 + one_day\n",
    "        if d2 in peak.index and d3 in peak.index:\n",
    "            top_terms_with_peak[k] = s\n",
    "            print(k, end=' ')\n",
    "            break"
   ]
  },
  {
   "cell_type": "code",
   "execution_count": 11,
   "metadata": {},
   "outputs": [
    {
     "data": {
      "text/plain": [
       "331"
      ]
     },
     "execution_count": 11,
     "metadata": {},
     "output_type": "execute_result"
    }
   ],
   "source": [
    "len(top_terms_with_peak)"
   ]
  },
  {
   "cell_type": "code",
   "execution_count": 14,
   "metadata": {},
   "outputs": [],
   "source": [
    "from matplotlib import pyplot\n",
    "for k, v in top_terms_with_peak.items():\n",
    "    pass\n",
    "    # v.plot()\n",
    "    # pyplot.show()\n",
    "    # print(k)"
   ]
  },
  {
   "cell_type": "code",
   "execution_count": null,
   "metadata": {},
   "outputs": [],
   "source": []
  }
 ],
 "metadata": {
  "kernelspec": {
   "display_name": "Python 2",
   "language": "python",
   "name": "python2"
  },
  "language_info": {
   "codemirror_mode": {
    "name": "ipython",
    "version": 2
   },
   "file_extension": ".py",
   "mimetype": "text/x-python",
   "name": "python",
   "nbconvert_exporter": "python",
   "pygments_lexer": "ipython2",
   "version": "2.7.6"
  }
 },
 "nbformat": 4,
 "nbformat_minor": 0
}
